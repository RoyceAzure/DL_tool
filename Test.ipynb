{
 "cells": [
  {
   "cell_type": "markdown",
   "metadata": {},
   "source": [
    "###  TestLoss"
   ]
  },
  {
   "cell_type": "markdown",
   "metadata": {},
   "source": [
    "## BinCorssCentropy"
   ]
  },
  {
   "cell_type": "code",
   "execution_count": null,
   "metadata": {},
   "outputs": [],
   "source": [
    "\"\"\"\n",
    "目前不知道 from_logits = True 的使用效果  先使用False\n",
    "False 也可以接受pred 是 logits\n",
    "目前看最準結果是 -0.0  最爛結果為 15.....\n",
    "\n",
    "算法核心概念 : logits 是介於0~1之間  logits與反向標籤的距離取Ln\n",
    " \n",
    "不要使用 logits = True 因為我看不懂結果\n",
    "\n",
    "但是  基本上  接近0.69 (大於)  就是很爛  基本上就等於是錯誤的預測 我看要小於0.35比較可靠\n",
    "\n",
    "\"\"\"\n",
    "bce = tf.keras.losses.BinaryCrossentropy()\n",
    "\n",
    "y_true = [[0, 1], [0, 0]]\n",
    "y_pred = [[0.6, 0.4], [0.4, 0.6]]\n",
    "\n",
    "bce(y_true, y_pred).numpy()"
   ]
  },
  {
   "cell_type": "code",
   "execution_count": null,
   "metadata": {},
   "outputs": [],
   "source": [
    "def binCrosEntrophy(y_true, y_pred):\n",
    "    if  type(y_true).__module__!=np.__name__ :\n",
    "        y_true = np.array(y_true)\n",
    "    if  type(y_pred).__module__!=np.__name__ :\n",
    "        y_true = np.array(y_pred)\n",
    "    return -np.mean(y_true*np.log(y_pred) + (1-y_true)*np.log(1-y_pred))"
   ]
  },
  {
   "cell_type": "code",
   "execution_count": 4,
   "metadata": {},
   "outputs": [
    {
     "name": "stderr",
     "output_type": "stream",
     "text": [
      "F:\\Anaconda\\lib\\site-packages\\ipykernel_launcher.py:13: RuntimeWarning: divide by zero encountered in log\n",
      "  del sys.path[0]\n"
     ]
    },
    {
     "data": {
      "text/plain": [
       "Text(0, 0.5, 'Y')"
      ]
     },
     "execution_count": 4,
     "metadata": {},
     "output_type": "execute_result"
    },
    {
     "data": {
      "image/png": "[encoded data removed]",
      "text/plain": [
       "<Figure size 432x288 with 1 Axes>"
      ]
     },
     "metadata": {
      "needs_background": "light"
     },
     "output_type": "display_data"
    }
   ],
   "source": [
    "\"\"\"\n",
    "Ln(1.0) = 0 \n",
    "Ln(0)  =  負無限\n",
    "Ln(0.9999) = -0.000100005000333347 \n",
    "Ln(0.00001) = -11.51292546497023 \n",
    "Ln 是 越接近1  值越小  越接近0  值越大(負號)\n",
    "\"\"\"\n",
    "\n",
    "import numpy as np\n",
    "import matplotlib.pyplot as plt\n",
    "X = np.linspace(0, 1, num=100, endpoint=True, retstep=False, dtype=None, axis=0)\n",
    "\n",
    "plt.plot(X, np.log(X))\n",
    "plt.xlabel(\"X\")\n",
    "plt.ylabel(\"Y\")"
   ]
  },
  {
   "cell_type": "code",
   "execution_count": null,
   "metadata": {},
   "outputs": [],
   "source": [
    "\"\"\"\n",
    "如果沒有from logits  基本上節果0.69就已經是很爛 0.59~0.69 就是接近中間值\n",
    "\n",
    "label :１\n",
    "y_true = [[1]]\n",
    "y_pred = [[0.5]]\n",
    "0.69314694\n",
    "\n",
    "\n",
    "y_true = [[1]]\n",
    "y_pred = [[0.6]]\n",
    "\n",
    "y_true = [[0]]\n",
    "y_pred = [[0.5]]\n",
    "0.69314694\n",
    "\n",
    "\n",
    "\n",
    "\n",
    "\n",
    "\"\"\""
   ]
  },
  {
   "cell_type": "code",
   "execution_count": null,
   "metadata": {},
   "outputs": [],
   "source": []
  }
 ],
 "metadata": {
  "kernelspec": {
   "display_name": "Python 3",
   "language": "python",
   "name": "python3"
  },
  "language_info": {
   "codemirror_mode": {
    "name": "ipython",
    "version": 3
   },
   "file_extension": ".py",
   "mimetype": "text/x-python",
   "name": "python",
   "nbconvert_exporter": "python",
   "pygments_lexer": "ipython3",
   "version": "3.7.6"
  }
 },
 "nbformat": 4,
 "nbformat_minor": 4
}
